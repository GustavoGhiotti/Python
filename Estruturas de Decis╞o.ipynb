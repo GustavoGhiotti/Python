{
 "cells": [
  {
   "cell_type": "markdown",
   "id": "8535c274",
   "metadata": {
    "id": "8535c274"
   },
   "source": [
    "# Estruturas de decisão\n",
    "\n",
    "<span style=\"color: red;\"><b>Todos os exercícios são feitos partindo-se do pressuposto de que todas as entradas são dadas de forma correta. Casos limite não mencionados no enunciado não são abordados porque não fazem parte do exercício.</b></span>"
   ]
  },
  {
   "cell_type": "markdown",
   "id": "9c3d817e",
   "metadata": {
    "id": "9c3d817e"
   },
   "source": [
    "#### 1. Faça um Programa que peça dois números e imprima o maior deles."
   ]
  },
  {
   "cell_type": "code",
   "execution_count": 4,
   "id": "ae45c028",
   "metadata": {
    "id": "ae45c028"
   },
   "outputs": [
    {
     "name": "stdout",
     "output_type": "stream",
     "text": [
      "O maior numero eh o 100000000\n"
     ]
    }
   ],
   "source": [
    "n1 = int(input('Qual o prieiro numero?'))\n",
    "n2 = int(input('Qual o segundo numero?'))\n",
    "\n",
    "if n1 > n2:\n",
    "    print('O maior numero eh o {}' .format(n1))\n",
    "\n",
    "elif n2 > n1:\n",
    "    print('O maior numero eh o {}' .format(n2))\n",
    "\n",
    "else:\n",
    "    print('Os numero sao iguais')"
   ]
  },
  {
   "cell_type": "markdown",
   "id": "ff510803",
   "metadata": {
    "id": "ff510803"
   },
   "source": [
    "#### 2. Faça um Programa que peça um valor e mostre na tela se o valor é positivo ou negativo."
   ]
  },
  {
   "cell_type": "code",
   "execution_count": 1,
   "id": "8952f58f",
   "metadata": {
    "id": "8952f58f"
   },
   "outputs": [
    {
     "ename": "ValueError",
     "evalue": "invalid literal for int() with base 10: ''",
     "output_type": "error",
     "traceback": [
      "\u001b[31m---------------------------------------------------------------------------\u001b[39m",
      "\u001b[31mValueError\u001b[39m                                Traceback (most recent call last)",
      "\u001b[36mCell\u001b[39m\u001b[36m \u001b[39m\u001b[32mIn[1]\u001b[39m\u001b[32m, line 1\u001b[39m\n\u001b[32m----> \u001b[39m\u001b[32m1\u001b[39m n1 = \u001b[38;5;28;43mint\u001b[39;49m\u001b[43m(\u001b[49m\u001b[38;5;28;43minput\u001b[39;49m\u001b[43m(\u001b[49m\u001b[33;43m'\u001b[39;49m\u001b[33;43mQual o numero?\u001b[39;49m\u001b[33;43m'\u001b[39;49m\u001b[43m)\u001b[49m\u001b[43m)\u001b[49m\n\u001b[32m      3\u001b[39m \u001b[38;5;28;01mif\u001b[39;00m n1 > \u001b[32m0\u001b[39m:\n\u001b[32m      4\u001b[39m     \u001b[38;5;28mprint\u001b[39m(\u001b[33m'\u001b[39m\u001b[33mO numeoro eh possitivo\u001b[39m\u001b[33m'\u001b[39m)\n",
      "\u001b[31mValueError\u001b[39m: invalid literal for int() with base 10: ''"
     ]
    }
   ],
   "source": [
    "n1 = int(input('Qual o numero?'))\n",
    "\n",
    "if n1 > 0:\n",
    "    print('O numeoro eh possitivo')\n",
    "elif n1 < 0:\n",
    "    print('O numero eh negativo')\n",
    "else:\n",
    "    print('O numero eh igual a 0')"
   ]
  },
  {
   "cell_type": "markdown",
   "id": "6966546b",
   "metadata": {
    "id": "6966546b"
   },
   "source": [
    "#### 3. Faça um Programa que verifique o estado civil de uma pessoa. Se a letra digitada é \"C\" (Casado), \"S\" (Solteiro), \"D\" (Divorciado), \"V\" (Viúvo) ou \"O\" (outros). Conforme a letra escrita pelo usuário seu programa deve escrever o estado civil, exemplo:\n",
    "\n",
    "Usuário digita: C\n",
    "\n",
    "Seu programa deve responder:\n",
    "C - Casado"
   ]
  },
  {
   "cell_type": "code",
   "execution_count": 15,
   "id": "876a1e67",
   "metadata": {
    "id": "876a1e67"
   },
   "outputs": [
    {
     "name": "stdout",
     "output_type": "stream",
     "text": [
      "M - Outros\n"
     ]
    }
   ],
   "source": [
    "estado = input('Qual o estado civl? C, S, D, V OU O')\n",
    "\n",
    "if estado == 'C':\n",
    "    estado_civil = 'Casado'\n",
    "elif estado == 'S':\n",
    "    estado_civil = 'Solteiro'\n",
    "elif estado == 'D':\n",
    "    estado_civil = 'Divorciado'\n",
    "elif estado == 'V':\n",
    "    estado_civil = 'Viuvo'\n",
    "else:\n",
    "    estado_civil = 'Outros'\n",
    "\n",
    "print('{} - {}' .format(estado,estado_civil))"
   ]
  },
  {
   "cell_type": "markdown",
   "id": "c122c0cf",
   "metadata": {
    "id": "c122c0cf"
   },
   "source": [
    "#### 4. Faça um Programa que verifique se o e-mail digitado faz parte dos e-mails de spam."
   ]
  },
  {
   "cell_type": "code",
   "execution_count": 24,
   "id": "59bed184",
   "metadata": {
    "id": "59bed184"
   },
   "outputs": [
    {
     "name": "stdout",
     "output_type": "stream",
     "text": [
      "O email fornecido eh um spam\n"
     ]
    }
   ],
   "source": [
    "emails_spam = \"fulano@gmail.com,beltrano@gmail.com,ciclano@gmail.com\"\n",
    "\n",
    "email = input('Informe o email')\n",
    "\n",
    "if email in emails_spam:\n",
    "    print('O email fornecido eh um spam')\n",
    "else:\n",
    "    print('nao eh spam')\n"
   ]
  },
  {
   "cell_type": "markdown",
   "id": "487ee073",
   "metadata": {
    "id": "487ee073"
   },
   "source": [
    "#### 5. Faça um programa para a leitura de duas notas parciais de um aluno. O programa deve calcular a média alcançada por aluno e apresentar:\n",
    "\n",
    "##### A mensagem \"Aprovado\", se a média alcançada for maior ou igual a sete;\n",
    "##### A mensagem \"Reprovado\", se a média for menor do que sete;\n",
    "##### A mensagem \"Aprovado com Distinção\", se a média for igual a dez."
   ]
  },
  {
   "cell_type": "code",
   "execution_count": 27,
   "id": "7f5c7096",
   "metadata": {
    "id": "7f5c7096"
   },
   "outputs": [
    {
     "name": "stdout",
     "output_type": "stream",
     "text": [
      "Aprovado - Media de 10.0\n"
     ]
    }
   ],
   "source": [
    "n1 = float(input('Forneca a primeira nota'))\n",
    "n2 = float(input('Forneca a segunda nota'))\n",
    "\n",
    "media = 7\n",
    "\n",
    "media_alca = (n1 + n2) / 2\n",
    "\n",
    "if media_alca >= media:\n",
    "    print('Aprovado - Media de {}' .format(media_alca))\n",
    "elif media_alca == 10:\n",
    "    print('Aprovado com distincao - Media de {}' .format(media_alca))\n",
    "else:\n",
    "    print('Reprovado - Media de {}' .format(media_alca))\n",
    "\n",
    "\n"
   ]
  },
  {
   "cell_type": "markdown",
   "id": "6dd3f171",
   "metadata": {
    "id": "6dd3f171"
   },
   "source": [
    "#### 6. Faça um Programa que leia o orçamento de 3 empresas e mostre o maior deles."
   ]
  },
  {
   "cell_type": "code",
   "execution_count": null,
   "id": "51b591e5",
   "metadata": {
    "id": "51b591e5"
   },
   "outputs": [
    {
     "name": "stdout",
     "output_type": "stream",
     "text": [
      "10.0\n",
      "O maior orcamento é 10.0\n"
     ]
    }
   ],
   "source": [
    "orcamento1 = float(input('Qual o valor do primeiro orcamento?'))\n",
    "orcamento2 = float(input('QUal o valor do segundo orcamento ?'))\n",
    "orcamento3 = float(input('Qual o valor do terceiro orcamento?'))\n",
    "\n",
    "if orcamento1 > orcamento2:\n",
    "    if orcamento1 > orcamento3:\n",
    "        print(orcamento1)\n",
    "    else:\n",
    "        print(orcamento3)\n",
    "else:\n",
    "    if orcamento2 > orcamento3:\n",
    "        print(orcamento2)\n",
    "    else:\n",
    "        print(orcamento3)"
   ]
  },
  {
   "cell_type": "markdown",
   "id": "ce09ed1c",
   "metadata": {
    "id": "ce09ed1c"
   },
   "source": [
    "#### 7. Faça um Programa que leia três orçamentos e mostre o maior e o menor deles."
   ]
  },
  {
   "cell_type": "code",
   "execution_count": 32,
   "id": "249f1eb8",
   "metadata": {
    "id": "249f1eb8"
   },
   "outputs": [
    {
     "name": "stdout",
     "output_type": "stream",
     "text": [
      "10.0\n",
      "2.0\n"
     ]
    }
   ],
   "source": [
    "orcamento1 = float(input('Qual o valor do primeiro orcamento?'))\n",
    "orcamento2 = float(input('QUal o valor do segundo orcamento ?'))\n",
    "orcamento3 = float(input('Qual o valor do terceiro orcamento?'))\n",
    "\n",
    "if (orcamento1 > orcamento2) and (orcamento1 > orcamento3):\n",
    "    print(orcamento1)\n",
    "elif (orcamento2 > orcamento1) and (orcamento2 > orcamento3):\n",
    "    print(orcamento2)\n",
    "elif (orcamento3 > orcamento1) and (orcamento3 > orcamento2):\n",
    "    print(orcamento3)\n",
    "\n",
    "\n",
    "if (orcamento1 < orcamento2) and (orcamento1 < orcamento3):\n",
    "    print(orcamento1)\n",
    "elif (orcamento2 < orcamento1) and (orcamento2 < orcamento3):\n",
    "    print(orcamento2)\n",
    "elif (orcamento3 < orcamento1) and (orcamento3 < orcamento2):\n",
    "    print(orcamento3)\n",
    "    "
   ]
  },
  {
   "cell_type": "markdown",
   "id": "7453d43a",
   "metadata": {
    "id": "7453d43a"
   },
   "source": [
    "#### 8. Faça um programa que pergunte o preço de três produtos e informe qual produto você deve comprar, sabendo que a decisão é sempre pelo mais barato."
   ]
  },
  {
   "cell_type": "code",
   "execution_count": 34,
   "id": "26a9503e",
   "metadata": {
    "id": "26a9503e"
   },
   "outputs": [
    {
     "name": "stdout",
     "output_type": "stream",
     "text": [
      "O melhor produto eh o de valor de 2.0\n"
     ]
    }
   ],
   "source": [
    "preco1 = float(input('Qual o valor do produto?'))\n",
    "preco2 = float(input('Qual o valor do produto?'))\n",
    "preco3 = float(input('Qual o valor do produto?'))\n",
    "\n",
    "if (preco1 < preco2) and (preco1 < preco3):\n",
    "    print('O melhor produto eh o de valor de {}' .format(preco1))\n",
    "elif (preco2 < preco1) and (preco2 < preco3):\n",
    "    print('O melhor produto eh o de valor de {}' .format(preco2))\n",
    "elif (preco3 < preco1) and (preco3 < preco2):\n",
    "    print('O melhor produto eh o de valor de {}' .format(preco1))"
   ]
  },
  {
   "cell_type": "markdown",
   "id": "9ade258f",
   "metadata": {
    "id": "9ade258f"
   },
   "source": [
    "#### 9. Faça um Programa que leia três números e mostre-os em ordem decrescente."
   ]
  },
  {
   "cell_type": "code",
   "execution_count": 39,
   "id": "f194c39e",
   "metadata": {
    "id": "f194c39e"
   },
   "outputs": [
    {
     "name": "stdout",
     "output_type": "stream",
     "text": [
      "10\n",
      "8\n",
      "1\n"
     ]
    }
   ],
   "source": [
    "n1 = int(input('Informe o primeiro numero'))\n",
    "n2 = int(input('informe o segundo numero'))\n",
    "n3 = int(input('Infome o terceiro numero'))\n",
    "\n",
    "\n",
    "if (n1 > n2) and (n1 > n3):\n",
    "    print(n1)\n",
    "    if n2 > n3:\n",
    "        print(n2)\n",
    "        print(n3)\n",
    "    else:\n",
    "        print(n3)\n",
    "        print(n2)\n",
    "elif (n2 > n1) and (n2 > n3):\n",
    "    print(n2)\n",
    "    if n1 > n3:\n",
    "        print(n1)\n",
    "        print(n3)\n",
    "    else:\n",
    "        print(n3)\n",
    "        print(n1)\n",
    "elif (n3 > n1) and (n3 > n2):\n",
    "    print(n3)\n",
    "    if n1 > n2:\n",
    "        print(n1)\n",
    "        print(n2)\n",
    "    else:\n",
    "        print(n2)\n",
    "        print(n1)"
   ]
  },
  {
   "cell_type": "markdown",
   "id": "d06e2fe8",
   "metadata": {
    "id": "d06e2fe8"
   },
   "source": [
    "#### 10. Faça um Programa que pergunte em que turno você estuda. Peça para digitar M-matutino ou V-Vespertino ou N- Noturno. Imprima a mensagem \"Bom Dia!\", \"Boa Tarde!\" ou \"Boa Noite!\" ou \"Valor Inválido!\", conforme o caso."
   ]
  },
  {
   "cell_type": "code",
   "execution_count": 44,
   "id": "1eb36141",
   "metadata": {
    "id": "1eb36141"
   },
   "outputs": [
    {
     "name": "stdout",
     "output_type": "stream",
     "text": [
      "Boa Noite!\n"
     ]
    }
   ],
   "source": [
    "periodo = input('Qual o periodo que voce estuda ? (M - V - N)')\n",
    "\n",
    "if periodo == 'M':\n",
    "    periodo = 'Bom dia!'\n",
    "elif periodo == 'V':\n",
    "    periodo = 'Boa Tarde!'\n",
    "elif periodo == 'N':\n",
    "    periodo = 'Boa Noite!'\n",
    "else:\n",
    "    periodo = 'Periodo nao encontrado'\n",
    "print(periodo)"
   ]
  },
  {
   "cell_type": "markdown",
   "id": "4864b755",
   "metadata": {
    "id": "4864b755"
   },
   "source": [
    "#### 11. As Organizações Tabajara resolveram dar um aumento de salário aos seus colaboradores e lhe contraram para desenvolver o programa que calculará os reajustes. Faça um programa que recebe o salário de um colaborador e o reajuste segundo o seguinte critério, baseado no salário atual:\n",
    "\n",
    "##### salários até R\\\\$ 280,00 (incluindo) : aumento de 20% \n",
    "\n",
    "##### salários entre R\\\\$ 280,00 e R\\\\$ 700,00 : aumento de 15% \n",
    "\n",
    "##### salários entre R\\\\$ 700,00 e R\\\\$ 1500,00 : aumento de 10% \n",
    "\n",
    "##### salários de R\\\\$ 1500,00 em diante : aumento de 5% Após o aumento ser realizado, informe na tela: \n",
    "\n",
    "###### o salário antes do reajuste;\n",
    "\n",
    "###### o percentual de aumento aplicado;\n",
    "\n",
    "###### o valor do aumento;\n",
    "\n",
    "###### o novo salário, após o aumento.\n",
    "\n",
    "###### Obs: Não vamos nos preocupar tanto com a formatação dos números (nº de casas decimais, por exemplo, veremos isso no próximo módulo)"
   ]
  },
  {
   "cell_type": "code",
   "execution_count": 48,
   "id": "f0d34916",
   "metadata": {
    "id": "f0d34916"
   },
   "outputs": [
    {
     "name": "stdout",
     "output_type": "stream",
     "text": [
      "O salario antes do ajuste eh de 2000.0 reais\n",
      "O percentual de aumento aplicado eh de 0.05\n",
      "O valor do aumento eh de 100.0 reais\n",
      "O novo salario eh de 2100.0 reais\n"
     ]
    }
   ],
   "source": [
    "salario = float(input('QUal o salario do colaborador?'))\n",
    "\n",
    "if salario < 280:\n",
    "    aumento = 0.20\n",
    "elif salario >= 280 and salario < 700:\n",
    "    aumento = 0.15\n",
    "elif salario >= 700 and salario < 1500:\n",
    "    aumento = 0.10\n",
    "else:\n",
    "    aumento = 0.05\n",
    "\n",
    "valor_aumento = salario * aumento\n",
    "novo_salario = salario + valor_aumento\n",
    "\n",
    "print('O salario antes do ajuste eh de {} reais' .format(salario))\n",
    "print('O percentual de aumento aplicado eh de {}' .format(aumento))\n",
    "print('O valor do aumento eh de {} reais' .format(valor_aumento))\n",
    "print('O novo salario eh de {} reais' .format(novo_salario))\n"
   ]
  },
  {
   "cell_type": "markdown",
   "id": "b037f1e8",
   "metadata": {
    "id": "b037f1e8"
   },
   "source": [
    "#### 12 . Faça um programa para o cálculo de uma folha de pagamento, sabendo que os descontos são do Imposto de Renda, que depende do salário bruto (conforme tabela abaixo) e que o FGTS corresponde a 11% do Salário Bruto, mas não é descontado (é a empresa que deposita). O Salário Líquido corresponde ao Salário Bruto menos os descontos. O programa deverá pedir ao usuário o valor da sua hora e a quantidade de horas trabalhadas no mês.\n",
    "\n",
    "Desconto do IR:<br>\n",
    "Salário Bruto até 900 (inclusive) - isento<br>\n",
    "Salário Bruto até 1500 (inclusive) - desconto de 5%<br>\n",
    "Salário Bruto até 2500 (inclusive) - desconto de 10%<br>\n",
    "Salário Bruto acima de 2500 - desconto de 20%<br>\n",
    "Imprima na tela as informações, dispostas conforme o exemplo abaixo. No exemplo o valor da hora é 5 e a quantidade de hora é 220.\n",
    "\n",
    "Salário Bruto: (5 * 220)        : R\\\\$ 1100,00<br>\n",
    "(-) IR (5%)                     : R\\\\$   55,00<br>\n",
    "(-) INSS ( 10%)                 : R\\\\$  110,00<br>\n",
    "FGTS (11%)                      : R\\\\$  121,00<br>\n",
    "Total de descontos              : R\\\\$  165,00<br>\n",
    "Salário Liquido                 : R\\\\$  935,00<br>\n",
    "\n",
    "###### Obs: Não vamos nos preocupar tanto com a formatação dos números (nº de casas decimais, por exemplo, veremos isso no próximo módulo)"
   ]
  },
  {
   "cell_type": "code",
   "execution_count": 8,
   "id": "dad18bb2",
   "metadata": {
    "id": "dad18bb2"
   },
   "outputs": [
    {
     "name": "stdout",
     "output_type": "stream",
     "text": [
      "Salario Bruto = 3000.0 reais\n",
      "IR(20%) = 600.0 reais\n",
      "INSS(10%) = 300.0 reais\n",
      "FGTS(11%) = 330.0 reais\n",
      "Total de descontos = 900.0 reais\n",
      "Salario liquido = 2100.0 reais\n"
     ]
    }
   ],
   "source": [
    "valor_hora = float(input('Qual o valor por hora que voce recebe?'))\n",
    "horas = float(input('Quantas horas voce trabalhou esse mes ?'))\n",
    "\n",
    "salario = valor_hora * horas \n",
    "\n",
    "inss = salario * 0.10\n",
    "\n",
    "fgts = salario * 0.11\n",
    "\n",
    "\n",
    "if salario <= 900:\n",
    "    ir = 0\n",
    "elif salario <= 1500:\n",
    "    ir = 0.05\n",
    "elif salario <= 2500:\n",
    "    ir = 0.10\n",
    "else:\n",
    "    ir = 0.20\n",
    "\n",
    "ir_valor = salario * ir\n",
    "\n",
    "descontos = ir_valor + inss\n",
    "\n",
    "salrio_liquido = salario - descontos\n",
    "\n",
    "print('Salario Bruto = {} reais' .format(salario))\n",
    "print('IR({:.0%}) = {} reais' .format(ir, ir_valor))\n",
    "print('INSS(10%) = {} reais' .format(inss))\n",
    "print('FGTS(11%) = {} reais' .format(fgts))\n",
    "print('Total de descontos = {} reais' .format(descontos))\n",
    "print('Salario liquido = {} reais' .format(salrio_liquido))\n",
    "\n"
   ]
  },
  {
   "cell_type": "markdown",
   "id": "814fc211",
   "metadata": {
    "id": "814fc211"
   },
   "source": [
    "#### 13. Faça um Programa que leia um número e exiba o dia correspondente da semana. (1-Domingo, 2- Segunda, etc.), se digitar outro valor deve aparecer valor inválido."
   ]
  },
  {
   "cell_type": "code",
   "execution_count": 13,
   "id": "f2c2b8d8",
   "metadata": {
    "id": "f2c2b8d8"
   },
   "outputs": [
    {
     "name": "stdout",
     "output_type": "stream",
     "text": [
      "Quinta\n"
     ]
    }
   ],
   "source": [
    "dia = int(input('Qual o dia da semana? (1 - 2 - 3 - 4 - 5 - 6 - 7)'))\n",
    "\n",
    "if dia == 1:\n",
    "    dia_semana = 'Domingo'\n",
    "elif dia == 2:\n",
    "    dia_semana = 'Segunda'\n",
    "elif dia == 3:\n",
    "    dia_semana = 'Terca'\n",
    "elif dia == 4:\n",
    "    dia_semana = 'Quarta'\n",
    "elif dia == 5:\n",
    "    dia_semana = 'Quinta'\n",
    "elif dia == 6:\n",
    "    dia_semana = 'Sexta'\n",
    "elif dia == 7:\n",
    "    dia_semana = 'Sabado'\n",
    "else:\n",
    "    dia_semana = 'Valo invalido'\n",
    "\n",
    "print(dia_semana)"
   ]
  },
  {
   "cell_type": "markdown",
   "id": "6e5f461e",
   "metadata": {
    "id": "6e5f461e"
   },
   "source": [
    "#### 14. Faça um programa que lê as duas notas parciais obtidas por um aluno numa disciplina ao longo de um semestre, e calcule a sua média. Em seguida, mostre qual conceito o aluno teve. A atribuição de conceitos obedece à tabela abaixo:\n",
    "<pre>\n",
    "Média de Aproveitamento  Conceito\n",
    "Entre 9.0 e 10.0        A\n",
    "Entre 7.5 e 9.0         B\n",
    "Entre 6.0 e 7.5         C\n",
    "Entre 4.0 e 6.0         D\n",
    "Entre 4.0 e zero        E\n",
    "</pre>"
   ]
  },
  {
   "cell_type": "code",
   "execution_count": 21,
   "id": "29721a43",
   "metadata": {
    "id": "29721a43"
   },
   "outputs": [
    {
     "name": "stdout",
     "output_type": "stream",
     "text": [
      "A\n"
     ]
    }
   ],
   "source": [
    "n1 = float(input('Qual a primeira nota?'))\n",
    "n2 = float(input('Qual a segunda nota?'))\n",
    "\n",
    "media = (n1 + n2) / 2\n",
    "\n",
    "if 10 >= media >= 9:\n",
    "    conceito = 'A'\n",
    "elif media >= 7.5:\n",
    "    conceito = 'B'\n",
    "elif media >= 6:\n",
    "    conceito = 'C'\n",
    "elif media >= 4:\n",
    "    conceito = 'D'\n",
    "else:\n",
    "    conceito = 'E'\n",
    "\n",
    "print(conceito)"
   ]
  },
  {
   "cell_type": "markdown",
   "id": "e6b3bcaf",
   "metadata": {
    "id": "e6b3bcaf"
   },
   "source": [
    "#### 15. Você está construindo um calendário para controlar dias de trabalho a pedido do RH. Nessa construção, você vai precisar definir quais anos são bissextos e quais não são, para montar o calendário de forma correta. Faça um Programa que peça um número correspondente a um determinado ano e em seguida informe se este ano é ou não bissexto.\n",
    "<pre>\n",
    "Dica para determinar se um ano é bissexto: \n",
    "- São bissextos todos os anos múltiplos de 400, p.ex.: 1600, 2000, 2400, 2800...\n",
    "- São bissextos todos os múltiplos de 4, exceto se for múltiplo de 100 mas não de 400, \n",
    "p.ex.: 1996, 2000, 2004, 2008, 2012, 2016, 2020, 2024, 2028...\n",
    "- Não são bissextos todos os demais anos.<br>\n",
    "ex1: 2004 é múltiplo de 4, mas não é múltiplo de 100, então é bissexto.\n",
    "ex2: 2000 é múltiplo de 4, mas é múltiplo de 100, só que também é multiplo de 400, então é bissexto (porque todo ano múltiplo de 400 é bissexto, independente do resto).\n",
    "ex3: 1900 é múltiplo de 4, é múltiplo de 100, mas não é múltiplo de 400, então não é bissexto\n",
    "\n",
    "</pre>\n",
    "\n",
    "Dica: lembre que: numero % 4 é o resto da divisão do número por 4, ex: 10 % 3 = 1 (já que 10/3 = 3 e resta 1)"
   ]
  },
  {
   "cell_type": "code",
   "execution_count": 24,
   "id": "56af223f",
   "metadata": {
    "id": "56af223f"
   },
   "outputs": [
    {
     "name": "stdout",
     "output_type": "stream",
     "text": [
      "O ano nao eh bissexto\n"
     ]
    }
   ],
   "source": [
    "ano = int(input('Forneca o ano que deseja consultar'))\n",
    "\n",
    "if (ano % 4 == 0 and ano % 100 != 0) or ano % 400 == 0:\n",
    "    print('O ano [e bissexto]')\n",
    "else:\n",
    "    print('O ano nao eh bissexto')"
   ]
  },
  {
   "cell_type": "markdown",
   "id": "9fe532c8",
   "metadata": {
    "id": "9fe532c8"
   },
   "source": [
    "#### 16. Faça um Programa para leitura de três notas parciais de um aluno. O programa deve calcular a média alcançada por aluno e presentar:\n",
    "<pre>\n",
    "A mensagem \"Aprovado\", se a média for maior ou igual a 7, com a respectiva média alcançada;\n",
    "A mensagem \"Reprovado\", se a média for menor do que 7, com a respectiva média alcançada;\n",
    "A mensagem \"Aprovado com Distinção\", se a média for igual a 10.\n",
    "</pre>"
   ]
  },
  {
   "cell_type": "code",
   "execution_count": 32,
   "id": "1a56e99f",
   "metadata": {
    "id": "1a56e99f"
   },
   "outputs": [
    {
     "name": "stdout",
     "output_type": "stream",
     "text": [
      "Reprovado. A media foi de 2.3333333333333335\n"
     ]
    }
   ],
   "source": [
    "n1 = float(input('Qual a primeira nota?'))\n",
    "n2 = float(input('Qual a segunda nota?'))\n",
    "n3 = float(input('Qual a terceira nota ?'))\n",
    "\n",
    "media = (n1 + n2 + n3) / 3\n",
    "\n",
    "if media == 10:\n",
    "    situacao = \"Aprovado com disticao\"\n",
    "elif media >= 7:\n",
    "    situacao = 'Aprovado'\n",
    "else:\n",
    "    situacao = 'Reprovado'\n",
    "\n",
    "print('{}. A media foi de {}' .format(situacao,media))\n"
   ]
  },
  {
   "cell_type": "markdown",
   "id": "d544412e",
   "metadata": {
    "id": "d544412e"
   },
   "source": [
    "#### 17. João Papo-de-Pescador, homem de bem, comprou um microcomputador para controlar o rendimento diário de seu trabalho. Toda vez que ele traz um peso de peixes maior que o estabelecido pelo regulamento de pesca do estado de São Paulo (50 quilos) deve pagar uma multa de R$ 4,00 por quilo excedente. João precisa que você faça um programa que leia a variável peso (peso de peixes) e calcule o excesso. Gravar na variável excesso a quantidade de quilos além do limite e na variável multa o valor da multa que João deverá pagar. Imprima os dados do programa com as mensagens adequadas."
   ]
  },
  {
   "cell_type": "code",
   "execution_count": 34,
   "id": "971ed027",
   "metadata": {
    "id": "971ed027"
   },
   "outputs": [
    {
     "name": "stdout",
     "output_type": "stream",
     "text": [
      "Quantidade de peixe pescado dentro do limite do estado de SP\n"
     ]
    }
   ],
   "source": [
    "peso = float(input('Qual a quantidade de peixe pescado em peixe'))\n",
    "\n",
    "limite = 50\n",
    "\n",
    "multa = 4\n",
    "\n",
    "if peso > limite:\n",
    "    excedente = peso - limite\n",
    "    valor = multa * excedente\n",
    "    print('O valor da multa eh {} reais, com um excedente de peso de {}KG' .format(valor,excedente))\n",
    "else:\n",
    "    print('Quantidade de peixe pescado dentro do limite do estado de SP')\n"
   ]
  },
  {
   "cell_type": "markdown",
   "id": "0e5256e0",
   "metadata": {
    "id": "0e5256e0"
   },
   "source": [
    "#### 18. Faça um Programa para um caixa eletrônico. O programa deverá perguntar ao usuário a valor do saque e depois informar quantas notas de cada valor serão fornecidas. As notas disponíveis serão as de 1, 5, 10, 50 e 100 reais. O valor mínimo é de 10 reais e o máximo de 600 reais. O programa não deve se preocupar com a quantidade de notas existentes na máquina.\n",
    "<pre>\n",
    "Exemplo 1: Para sacar a quantia de 256 reais, o programa fornece duas notas de 100, uma nota de 50, uma nota de 5 e uma nota de 1;\n",
    "Exemplo 2: Para sacar a quantia de 399 reais, o programa fornece três notas de 100, uma nota de 50, quatro notas de 10, uma nota de 5 e quatro notas de 1.\n",
    "</pre>\n",
    "\n",
    "Dica1: numero // 10 vai te dar como resposta a parte inteira da divisão do número por 10.<br>\n",
    "Dica2: numero % 10 vai te dar o resto da divisão do número por 10."
   ]
  },
  {
   "cell_type": "code",
   "execution_count": 14,
   "id": "9b4244c7",
   "metadata": {
    "id": "9b4244c7"
   },
   "outputs": [
    {
     "name": "stdout",
     "output_type": "stream",
     "text": [
      "Para sacar a quantia de 400 reais eh necessario:\n",
      "O numero de notas de 100 reais eh de 4\n",
      "O numero de notas de 50 reais eh de 0\n",
      "O numero de notas de 10 reais eh de 0\n",
      "O numero de notas de 5 reais eh de 0\n",
      "O numero de notas de 1 real eh de 0\n"
     ]
    }
   ],
   "source": [
    "saque = int(input('Qual o valor do saque de 10 a 600 reais'))\n",
    "\n",
    "n100 = 0\n",
    "n50 = 0\n",
    "n10 = 0\n",
    "n5 = 0\n",
    "n1 = 0\n",
    "\n",
    "if 10 <= saque <= 600:\n",
    "    print('Para sacar a quantia de {} reais eh necessario:' .format(saque))\n",
    "    if saque >= 100:\n",
    "        n100 = saque // 100\n",
    "        saque = saque % 100\n",
    "        \n",
    "    if saque >= 50:\n",
    "        n50 = saque // 50\n",
    "        saque = saque % 50\n",
    "\n",
    "    if saque >= 10:\n",
    "        n10 = saque // 10\n",
    "        saque = saque % 10\n",
    "\n",
    "    if saque >= 5:\n",
    "        n5 = saque // 5\n",
    "        saque = saque % 5\n",
    "\n",
    "    if saque >= 1:\n",
    "        n1 = saque // 1\n",
    "        saque = saque % 1\n",
    "\n",
    "    print('O numero de notas de 100 reais eh de {}' .format(n100))\n",
    "    print('O numero de notas de 50 reais eh de {}' .format(n50))\n",
    "    print('O numero de notas de 10 reais eh de {}' .format(n10))\n",
    "    print('O numero de notas de 5 reais eh de {}' .format(n5))\n",
    "    print('O numero de notas de 1 real eh de {}' .format(n1))\n",
    "\n",
    "else:\n",
    "    print('Valor excedido para saque')"
   ]
  },
  {
   "cell_type": "markdown",
   "id": "cba47494",
   "metadata": {
    "id": "cba47494"
   },
   "source": [
    "#### 19. Faça um programa que faça 5 perguntas para uma pessoa sobre um crime. As perguntas são:\n",
    "<pre>\n",
    "\"Telefonou para a vítima?\"\n",
    "\"Esteve no local do crime?\"\n",
    "\"Mora perto da vítima?\"\n",
    "\"Devia para a vítima?\"\n",
    "\"Já trabalhou com a vítima?\" \n",
    "O programa deve no final emitir uma classificação sobre a participação da pessoa no crime. Se a \n",
    "pessoa responder positivamente a 2 questões ela deve ser classificada como \"Suspeita\", entre 3 e 4 \n",
    "como \"Cúmplice\" e 5 como \"Assassino\". Caso contrário, ele será classificado como \"Inocente\".\n",
    "</pre>"
   ]
  },
  {
   "cell_type": "code",
   "execution_count": 26,
   "id": "5fdf9b88",
   "metadata": {
    "id": "5fdf9b88"
   },
   "outputs": [
    {
     "name": "stdout",
     "output_type": "stream",
     "text": [
      "Assassino\n",
      "5\n"
     ]
    }
   ],
   "source": [
    "resposta = 0\n",
    "\n",
    "pergunta = input('Telefonou para a vitima?')\n",
    "\n",
    "if pergunta == 'sim':\n",
    "    resposta = resposta + 1\n",
    "\n",
    "pergunta = input('Esteve no local do crime?')\n",
    "\n",
    "if pergunta == 'sim':\n",
    "    resposta = resposta + 1\n",
    "\n",
    "pergunta = input('Mora perto da vitima?')\n",
    "\n",
    "if pergunta == 'sim':\n",
    "    resposta = resposta + 1\n",
    "\n",
    "pergunta = input('Devia para a vitima?')\n",
    "\n",
    "if pergunta == 'sim':\n",
    "    resposta = resposta + 1\n",
    "\n",
    "pergunta = input('Ja trabalhou com a vitima?')\n",
    "\n",
    "if pergunta == \"sim\":\n",
    "    resposta = resposta + 1\n",
    "\n",
    "\n",
    "if resposta == 2:\n",
    "    print('Suspeita')\n",
    "elif 3 <= resposta <= 4:\n",
    "    print('Cumplice')\n",
    "elif resposta == 5:\n",
    "    print('Assassino')\n",
    "else:\n",
    "    print('Inocente')\n",
    "\n",
    "print( resposta)\n"
   ]
  },
  {
   "cell_type": "markdown",
   "id": "18901e98",
   "metadata": {
    "id": "18901e98"
   },
   "source": [
    "#### 20. Um posto está vendendo combustíveis com a seguinte tabela de descontos:\n",
    "<pre>\n",
    "Álcool:\n",
    "até 20 litros, desconto de 3% por litro\n",
    "acima de 20 litros, desconto de 5% por litro\n",
    "Gasolina:\n",
    "até 20 litros, desconto de 4% por litro\n",
    "acima de 20 litros, desconto de 6% por litro\n",
    "\n",
    "Escreva um algoritmo que leia o número de litros vendidos, o tipo de combustível (codificado da seguinte forma: A-álcool, G-gasolina), calcule e imprima o valor a ser pago pelo cliente sabendo-se que o preço do litro da gasolina é R$ 2,50 o preço do litro do álcool é R$ 1,90.\n",
    "</pre>"
   ]
  },
  {
   "cell_type": "code",
   "execution_count": 35,
   "id": "a1fd8c38",
   "metadata": {
    "id": "a1fd8c38"
   },
   "outputs": [
    {
     "name": "stdout",
     "output_type": "stream",
     "text": [
      "Tipo de combustivel nao encontrado\n"
     ]
    }
   ],
   "source": [
    "qtd_litros = float(input('Qual a quantidade de litros abastecida?'))\n",
    "tipo = input('Qual o tipo de combustivel abastecido? A ou G')\n",
    "\n",
    "preco_g = 2.50\n",
    "preco_a = 1.90\n",
    "\n",
    "if tipo == 'G':\n",
    "        if qtd_litros <= 20:\n",
    "                desconto = 0.04\n",
    "                valor = preco_g * qtd_litros\n",
    "                valor_desc = valor * desconto\n",
    "                total = valor - valor_desc\n",
    "        else:\n",
    "                desconto = 0.06\n",
    "                valor = preco_g * qtd_litros\n",
    "                valor_desc = valor * desconto\n",
    "                total = valor - valor_desc\n",
    "        print('O valor a ser pago de gasolina eh de {} reais' .format(total))\n",
    "elif tipo == 'A':\n",
    "        if qtd_litros <= 20:\n",
    "                desconto = 0.03\n",
    "                valor = preco_a * qtd_litros\n",
    "                valor_desc = valor * desconto\n",
    "                total = valor - valor_desc\n",
    "        else:\n",
    "                desconto = 0.05\n",
    "                valor = preco_a * qtd_litros\n",
    "                valor_desc = valor * desconto\n",
    "                total = valor - valor_desc\n",
    "        print('O valor a ser pago de alcool eh de {} reais' .format(total))\n",
    "\n",
    "else:\n",
    "        print('Tipo de combustivel nao encontrado')"
   ]
  },
  {
   "cell_type": "markdown",
   "id": "be0f8f32",
   "metadata": {
    "id": "be0f8f32"
   },
   "source": [
    "#### 21. Uma fruteira está vendendo frutas com a seguinte tabela de preços:\n",
    "<pre>\n",
    "                      Até 5 Kg           Acima de 5 Kg\n",
    "Morango         R$ 2,50 por Kg          R$ 2,20 por Kg\n",
    "Maçã            R$ 1,80 por Kg          R$ 1,50 por Kg\n",
    "Se o cliente comprar mais de 8 Kg em frutas ou o valor total da compra ultrapassar R$ 25,00, receberá ainda um desconto de 10% sobre este total. Escreva um algoritmo para ler a quantidade (em Kg) de morangos e a quantidade (em Kg) de maças adquiridas e escreva o valor a ser pago pelo cliente.\n",
    "</pre>"
   ]
  },
  {
   "cell_type": "code",
   "execution_count": 43,
   "id": "35c47c8e",
   "metadata": {
    "id": "35c47c8e"
   },
   "outputs": [
    {
     "name": "stdout",
     "output_type": "stream",
     "text": [
      "O valor final da compra de frutas eh de 17.20 reais\n"
     ]
    }
   ],
   "source": [
    "morango = float(input('Qual a quantidade em KG de morango?'))\n",
    "maca = float(input('Qual a quantidade maca em KG'))\n",
    "\n",
    "if morango <= 5:\n",
    "    preco_morango = 2.50 * morango\n",
    "else:\n",
    "    preco_morango = 2.20 * morango\n",
    "\n",
    "if maca <= 5:\n",
    "    preco_maca = 1.80 * maca\n",
    "else:\n",
    "    preco_maca = 1.50 * maca\n",
    "\n",
    "peso = morango + maca\n",
    "\n",
    "valor = preco_morango + preco_maca\n",
    "\n",
    "if peso > 8 or valor > 25:\n",
    "    valor_desc = valor * 0.10\n",
    "    valor = valor - valor_desc\n",
    "\n",
    "print('O valor final da compra de frutas eh de {:.2f} reais' .format(valor))\n",
    "\n",
    "\n"
   ]
  },
  {
   "cell_type": "markdown",
   "id": "4dbd53ed",
   "metadata": {
    "id": "4dbd53ed"
   },
   "source": [
    "#### 22. O Hipermercado Tabajara está com uma promoção de carnes que é imperdível. Confira:\n",
    "<pre>\n",
    "                      Até 5 Kg           Acima de 5 Kg\n",
    "File Duplo      R$ 4,90 por Kg          R$ 5,80 por Kg\n",
    "Alcatra         R$ 5,90 por Kg          R$ 6,80 por Kg\n",
    "Picanha         R$ 6,90 por Kg          R$ 7,80 por Kg\n",
    "Para atender a todos os clientes, cada cliente poderá levar apenas um dos tipos de carne da promoção, porém não há limites para a quantidade de carne por cliente. Se compra for feita no cartão Tabajara o cliente receberá ainda um desconto de 5% sobre o total da compra. Escreva um programa que peça o tipo e a quantidade de carne comprada pelo usuário e gere um cupom fiscal, contendo as informações da compra: tipo e quantidade de carne, preço total, tipo de pagamento, valor do desconto e valor a pagar.\n",
    "</pre>"
   ]
  },
  {
   "cell_type": "code",
   "execution_count": 6,
   "id": "15a77357",
   "metadata": {
    "id": "15a77357"
   },
   "outputs": [
    {
     "name": "stdout",
     "output_type": "stream",
     "text": [
      "O tipo de carne comprado eh alcatra\n",
      "A quantidade de carne comprado eh de 4.0 KG\n",
      "O valor total da compra eh de 23.6 reais\n",
      "O tipo de pagamento eh dinheiro\n",
      "O desconto eh de 0 reais\n",
      "O valor total a pagar eh de 23.6 reais\n"
     ]
    }
   ],
   "source": [
    "qtd = float(input('Qual a quantidade em KG que voce comprara de carne?'))\n",
    "tipo = input('Qual o tipo de carne que deseja comprar ?')\n",
    "cartao = input('Ira utilizar o cartao ou tabajara ou dinheiro?')\n",
    "\n",
    "if qtd <= 5:\n",
    "    file_duplo = 4.90\n",
    "    alcatra = 5.90\n",
    "    picanha = 6.90\n",
    "else:\n",
    "    file_duplo = 5.80\n",
    "    alcatra = 6.80\n",
    "    picanha = 7.80\n",
    "\n",
    "if tipo == 'file duplo':\n",
    "    valor = file_duplo * qtd\n",
    "elif tipo == 'alcatra':\n",
    "    valor = alcatra * qtd\n",
    "elif tipo == 'picanha':\n",
    "    valor = picanha * qtd\n",
    "\n",
    "if cartao == 'cartao':\n",
    "    desconto = valor * 0.05\n",
    "else:\n",
    "    desconto = 0\n",
    "\n",
    "valor_total = valor - desconto\n",
    "\n",
    "\n",
    "print('O tipo de carne comprado eh {}' .format(tipo))\n",
    "print('A quantidade de carne comprado eh de {} KG' .format(qtd))\n",
    "print('O valor total da compra eh de {} reais' .format(valor))\n",
    "print('O tipo de pagamento eh {}' .format(cartao))\n",
    "print('O desconto eh de {} reais' .format(desconto))\n",
    "print('O valor total a pagar eh de {} reais' .format(valor_total))\n",
    "\n",
    "\n",
    "\n",
    "\n",
    "\n"
   ]
  },
  {
   "cell_type": "markdown",
   "id": "b949545b",
   "metadata": {
    "id": "b949545b"
   },
   "source": [
    "#### 23. Faça um Programa para uma loja de tintas. O programa deverá pedir o tamanho em metros quadrados da área a ser pintada. Considere que a cobertura da tinta é de 1 litro para cada 6 metros quadrados e que a tinta é vendida em latas de 18 litros, que custam R\\\\$ 80,00 ou em galões de 3,6 litros, que custam R\\\\$ 25,00."
   ]
  },
  {
   "cell_type": "code",
   "execution_count": 96,
   "id": "b11185b0",
   "metadata": {
    "id": "b11185b0"
   },
   "outputs": [],
   "source": [
    "area = float(input('Informe o tamanho da área a ser pintada em m²: '))\n",
    "litros_tinta = area / 6"
   ]
  },
  {
   "cell_type": "markdown",
   "id": "b3d0598f",
   "metadata": {
    "id": "b3d0598f"
   },
   "source": [
    "##### Informe ao usuário as quantidades de tinta a serem compradas e os respectivos preços em 3 situações.\n",
    "\n",
    "Dica: lembre dos operadores // e % mostrados em exercícios anteriores<br>\n",
    "Dica1: numero // 10 vai te dar como resposta a parte inteira da divisão do número por 10.<br>\n",
    "Dica2: numero % 10 vai te dar o resto da divisão do número por 10.\n",
    "\n",
    "##### 1. Comprar apenas latas de 18 litros: (apenas latas inteiras)"
   ]
  },
  {
   "cell_type": "code",
   "execution_count": 105,
   "id": "ed599d53",
   "metadata": {
    "id": "ed599d53"
   },
   "outputs": [
    {
     "name": "stdout",
     "output_type": "stream",
     "text": [
      "A quantidade de latas a ser comprado eh de 1.0 no valor de 80.0 reais\n"
     ]
    }
   ],
   "source": [
    "if litros_tinta > 0:\n",
    "    qtd_lata = litros_tinta // 18\n",
    "    if (litros_tinta % 18) > 0 :\n",
    "        qtd_lata = qtd_lata + 1\n",
    "preco = qtd_lata * 80\n",
    "\n",
    "print('A quantidade de latas a ser comprado eh de {} no valor de {} reais' .format(qtd_lata,preco))"
   ]
  },
  {
   "cell_type": "markdown",
   "id": "ab03bc10",
   "metadata": {
    "id": "ab03bc10"
   },
   "source": [
    "##### 2. Comprar apenas galões de 3,6 litros: (apenas galoes inteiros)"
   ]
  },
  {
   "cell_type": "code",
   "execution_count": 103,
   "id": "542f4a77",
   "metadata": {
    "id": "542f4a77"
   },
   "outputs": [
    {
     "name": "stdout",
     "output_type": "stream",
     "text": [
      "A quantidade de galoes a ser comprado eh de 1.0 no valor de 25.0 reais\n"
     ]
    }
   ],
   "source": [
    "if litros_tinta > 0:\n",
    "    qtd_galoes = litros_tinta // 3.6\n",
    "    if (litros_tinta % 3.6) > 0:\n",
    "        qtd_galoes = qtd_galoes + 1\n",
    "\n",
    "preco = qtd_galoes * 25\n",
    "\n",
    "print('A quantidade de galoes a ser comprado eh de {} no valor de {} reais' .format(qtd_galoes,preco))"
   ]
  },
  {
   "cell_type": "markdown",
   "id": "8Jbw7RupH9Nc",
   "metadata": {
    "id": "8Jbw7RupH9Nc"
   },
   "source": [
    "##### 3. Misturar latas e galões, de forma que o desperdício de tinta seja menor. Acrescente 10% de folga e sempre arredonde os valores para cima, isto é, considere latas cheias."
   ]
  },
  {
   "cell_type": "markdown",
   "id": "93d4157b",
   "metadata": {
    "id": "93d4157b"
   },
   "source": [
    "O custo da lata é 80/18 = 4,44 R\\\\$/L\n",
    "\n",
    "O custo do galão é 25/3,6 = 6,94 R\\\\$/L\n",
    "\n",
    "A lata é mais econômica, então todas as latas inteiras que pudermos usar devemos comprar em latas. Se ficar faltando alguma coisa para completar devemos avaliar se é melhor comprar latas ou galões. Exemplo:\n",
    "\n",
    "Se queremos comprar 90 litros. 5 latas dão exatamente 90 litros. Então devemos comprar tudo em latas.\n",
    "\n",
    "Se queremos comprar 95 litros. 5 latas dão exatamente 90 litros. Então devemos comprar pelo menos 5 latas e avaliar o que falta, se estes últimos 5 litros valem mais apenas em latas ou galões.\n",
    "\n",
    "Para os 5 litros faltantes precisamos de 2 galões que custam 50 reais no total. Ou de uma lata que custa 80 reais no total. Portanto, neste caso vale mais a pena usar 2 galões.\n",
    "\n",
    "Se queremos comprar 107 litros. 5 latas dão exatamente 90 litros. Então devemos comprar pelo menos 5 latas e avaliar o que falta, se estes últimos 5 litros valem mais apenas em latas ou galões.\n",
    "\n",
    "Para os 17 litros faltantes precisamos de 5 galões que custam 125 reais no total. Ou de uma lata que custa 80 reais no total. Portanto, neste caso vale mais a pena usar uma lata.\n",
    "\n",
    "3 galões custam 75 reais, 4 galões custam 100 reais. Então, se for possível completar com até 3 galões escolhe-se galões. Qualquer quantidade maior que 3 galões, usa-se latas.\n",
    "\n",
    "Podemos ir ao exercício:"
   ]
  },
  {
   "cell_type": "code",
   "execution_count": 100,
   "id": "01d104b6",
   "metadata": {
    "id": "01d104b6"
   },
   "outputs": [
    {
     "name": "stdout",
     "output_type": "stream",
     "text": [
      "1.8333333333333335\n",
      "A quantidade de latas a ser comprado eh de 0.0 latas\n",
      "A quantidade galoes a ser comprado eh de 1.0 galoes\n",
      "O valor total a pagar eh de 25.0 reais\n"
     ]
    }
   ],
   "source": [
    "preco_lata = 80\n",
    "preco_galao = 25\n",
    "\n",
    "litros_folga = litros_tinta * 1.1\n",
    "\n",
    "\n",
    "qtd_lata = litros_folga // 18\n",
    "\n",
    "tinta_faltante = litros_folga - qtd_lata * 18\n",
    "\n",
    "if tinta_faltante > 0:\n",
    "    qtd_galoes = tinta_faltante // 3.6\n",
    "    if (tinta_faltante % 3.6) > 0:\n",
    "        qtd_galoes = qtd_galoes + 1\n",
    "    if qtd_galoes > 3:\n",
    "        qtd_galoes = 0\n",
    "        qtd_lata = qtd_lata + 1\n",
    "\n",
    "valor = (qtd_lata * preco_lata) + (qtd_galoes * preco_galao)\n",
    "\n",
    "print(tinta_faltante)\n",
    "\n",
    "print('A quantidade de latas a ser comprado eh de {} latas' .format(qtd_lata))\n",
    "print('A quantidade galoes a ser comprado eh de {} galoes' .format(qtd_galoes))\n",
    "print('O valor total a pagar eh de {} reais' .format(valor))\n"
   ]
  }
 ],
 "metadata": {
  "colab": {
   "provenance": []
  },
  "kernelspec": {
   "display_name": ".venv",
   "language": "python",
   "name": "python3"
  },
  "language_info": {
   "codemirror_mode": {
    "name": "ipython",
    "version": 3
   },
   "file_extension": ".py",
   "mimetype": "text/x-python",
   "name": "python",
   "nbconvert_exporter": "python",
   "pygments_lexer": "ipython3",
   "version": "3.12.3"
  }
 },
 "nbformat": 4,
 "nbformat_minor": 5
}
