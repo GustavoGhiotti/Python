{
 "cells": [
  {
   "cell_type": "markdown",
   "id": "2b04bbea",
   "metadata": {
    "id": "2b04bbea"
   },
   "source": [
    "# Listas\n",
    "\n",
    "<span style=\"color: red;\"><b>Todos os exercícios são feitos partindo-se do pressuposto de que todas as entradas são dadas de forma correta. Casos limite não mencionados no enunciado não são abordados porque não fazem parte do exercício.</b></span>"
   ]
  },
  {
   "cell_type": "markdown",
   "id": "dcb81b29",
   "metadata": {
    "id": "dcb81b29"
   },
   "source": [
    "#### 1. Faça um Programa que leia as vendas dos vendedores, mostre a venda de cada vendedor com o seu nome e a média de vendas. "
   ]
  },
  {
   "cell_type": "code",
   "execution_count": 5,
   "id": "09c0d2b3",
   "metadata": {
    "id": "09c0d2b3"
   },
   "outputs": [
    {
     "name": "stdout",
     "output_type": "stream",
     "text": [
      "O vendedor Fulano vendeu 1000 reais\n",
      "O vendedor Beltrano vendeu 1500 reais\n",
      "O vendedor Ciclano vendeu 1200 reais\n",
      "O vendedor Lira vendeu 1300 reais\n",
      "A media de vendas eh de 1250.0 reais\n"
     ]
    }
   ],
   "source": [
    "vendas = [1000, 1500, 1200, 1300]\n",
    "vendedores = [\"Fulano\", \"Beltrano\", \"Ciclano\", \"Lira\"]\n",
    "\n",
    "valor = 0\n",
    "\n",
    "for i in range(len(vendas)):\n",
    "    print('O vendedor {} vendeu {} reais' .format(vendedores[i], vendas[i]))\n",
    "    \n",
    "media = sum(vendas) / len(vendas)\n",
    "print('A media de vendas eh de {} reais' .format(media))\n",
    "    \n",
    "\n",
    "\n",
    "\n"
   ]
  },
  {
   "cell_type": "markdown",
   "id": "cbda91b3",
   "metadata": {
    "id": "cbda91b3"
   },
   "source": [
    "#### 2. Faça um Programa que crie uma lista com as médias de cada aluno, imprima as médias de cada aluno e a quantidade de alunos com média maior que 7."
   ]
  },
  {
   "cell_type": "code",
   "execution_count": 12,
   "id": "c93dd233",
   "metadata": {
    "id": "c93dd233"
   },
   "outputs": [
    {
     "name": "stdout",
     "output_type": "stream",
     "text": [
      "A media do aluno 8.75 foi de José\n",
      "A media do aluno 6.5 foi de Joana\n",
      "A media do aluno 10.0 foi de Maria\n",
      "A media do aluno 6.75 foi de Carla\n",
      "A media do aluno 6.25 foi de Mauricio\n",
      "A media do aluno 7.25 foi de Andre\n",
      "A media do aluno 7.5 foi de Tiago\n",
      "A media do aluno 6.5 foi de Enzo\n",
      "A media do aluno 7.5 foi de Amanda\n",
      "A media do aluno 4.25 foi de Alessandra\n",
      "A quantidade de alunos aprovado foi de 5\n"
     ]
    }
   ],
   "source": [
    "alunos = [\"José\", \"Joana\", \"Maria\", \"Carla\", \"Mauricio\", \"Andre\", \"Tiago\", \"Enzo\", \"Amanda\", \"Alessandra\"]\n",
    "notas = [\n",
    "    [10, 9, 8, 8],\n",
    "    [9, 7, 6, 4],\n",
    "    [10, 10, 10, 10],\n",
    "    [5, 3, 10, 9],\n",
    "    [7, 6, 6, 6],\n",
    "    [7, 7, 8, 7],\n",
    "    [7, 7, 7, 9],\n",
    "    [8, 5, 6, 7],\n",
    "    [10, 9, 7, 4],\n",
    "    [10, 1, 3, 3],\n",
    "]\n",
    "\n",
    "media = 7\n",
    "aprovados = 0\n",
    "\n",
    "for i in range(len(alunos)):\n",
    "    media_aluno = sum(notas[i]) / len(notas[i])\n",
    "    print('A media do aluno {} foi de {}' .format(media_aluno,alunos[i]))\n",
    "    if media_aluno >= media:\n",
    "        aprovados += 1\n",
    "\n",
    "print('A quantidade de alunos aprovado foi de {}' .format(aprovados))\n",
    "\n",
    "\n",
    "\n"
   ]
  },
  {
   "cell_type": "markdown",
   "id": "c3068a53",
   "metadata": {
    "id": "c3068a53"
   },
   "source": [
    "#### 3. Foram anotadas as idades e salários de 30 funcionários. Faça um programa que determine quantos funcionários com mais de 25 anos possuem salário inferior à média de todos os salários."
   ]
  },
  {
   "cell_type": "code",
   "execution_count": 18,
   "id": "0308566d",
   "metadata": {
    "id": "0308566d",
    "scrolled": true
   },
   "outputs": [
    {
     "name": "stdout",
     "output_type": "stream",
     "text": [
      "12\n",
      "3319.8\n"
     ]
    }
   ],
   "source": [
    "idades = [35,32,50,33,48,50,33,48,22,49,35,38,20,47,49,48,34,21,48,44,48,30,25,42,42,23,25,23,38,35]\n",
    "salarios = [3739,2219,3554,3978,4014,3270,4792,3879,2981,2384,4826,2460,3680,4318,1872,1770,4640,3929,3295,1729,3965,4267,4007,1916,2987,2943,3852,4543,2055,1730]\n",
    "\n",
    "\n",
    "qtd_inferior = 0 \n",
    "\n",
    "for i in range(len(idades)):\n",
    "    media = sum(salarios) / len(salarios)\n",
    "    if idades[i] > 25 and salarios[i] < media:\n",
    "        qtd_inferior += 1\n",
    "print(qtd_inferior)\n",
    "print(media)\n"
   ]
  },
  {
   "cell_type": "markdown",
   "id": "1611081b",
   "metadata": {
    "id": "1611081b"
   },
   "source": [
    "#### 4.Em quais meses a média de temperatura foi maior do que a média nacional?"
   ]
  },
  {
   "cell_type": "code",
   "execution_count": 29,
   "id": "62f72e2b",
   "metadata": {
    "id": "62f72e2b"
   },
   "outputs": [
    {
     "name": "stdout",
     "output_type": "stream",
     "text": [
      "A media naciona eh de 25.83 graus\n",
      "A media de Janeiro foi de 30 graus\n",
      "A media de Fevereiro foi de 29 graus\n",
      "A media de Março foi de 28 graus\n",
      "A media de Abril foi de 28 graus\n",
      "A media de Junho foi de 26 graus\n",
      "A media de Novembro foi de 27 graus\n",
      "A media de Dezembro foi de 32 graus\n"
     ]
    }
   ],
   "source": [
    "meses = [\n",
    "    'Janeiro',\n",
    "    'Fevereiro',\n",
    "    'Março',\n",
    "    'Abril',\n",
    "    'Maio',\n",
    "    'Junho',\n",
    "    'Julho',\n",
    "    'Agosto',\n",
    "    'Setembro',\n",
    "    'Outubro',\n",
    "    'Novembro',\n",
    "    'Dezembro'\n",
    "]\n",
    "\n",
    "temperaturas = [30, 29, 28, 28, 25, 26, 20, 21, 19, 25, 27, 32]\n",
    "\n",
    "\n",
    "media = sum(temperaturas) / len (temperaturas)\n",
    "print('A media naciona eh de {:.2f} graus' .format(media) )\n",
    "\n",
    "\n",
    "for i in range(len(temperaturas)):\n",
    "    if temperaturas[i] > media:\n",
    "        print('A media de {} foi de {} graus' . format(meses[i],temperaturas[i]))\n"
   ]
  },
  {
   "cell_type": "markdown",
   "id": "8946af31",
   "metadata": {
    "id": "8946af31"
   },
   "source": [
    "#### 5. As Organizações Tabajara resolveram dar um abono aos seus colaboradores em reconhecimento ao bom resultado alcançado durante o ano que passou. Para isto contratou você para desenvolver a aplicação que servirá como uma projeção de quanto será gasto com o pagamento deste abono.\n",
    "<pre>Após reuniões envolvendo a diretoria executiva, a diretoria financeira e os representantes do sindicato laboral, chegou-se a seguinte forma de cálculo:\n",
    ". Cada funcionário receberá o equivalente a 20% do seu salário bruto de dezembro;\n",
    ". O piso do abono será de 100 reais, isto é, aqueles funcionários cujo salário for muito baixo, recebem este valor mínimo; \n",
    "\n",
    "Neste momento, não se deve ter nenhuma preocupação com colaboradores com tempo menor de casa, descontos, impostos ou outras particularidades. O programa deverá calcular o valor do abono concedido a cada colaborador, de acordo com a regra definida acima. Ao final, o programa deverá apresentar:</pre>\n",
    "<pre>\n",
    "O salário de cada funcionário, juntamente com o valor do abono;\n",
    "O número total de funcionário processados;\n",
    "O valor total a ser gasto com o pagamento do abono;\n",
    "O número de funcionário que receberá o valor mínimo de 100 reais;\n",
    "O maior valor pago como abono; A tela abaixo é um exemplo de execução do programa, apenas para fins ilustrativos.\n",
    "<pre>\n",
    "Projeção de Gastos com Abono\n",
    "============================ \n",
    " \n",
    "Salário: 1000\n",
    "Salário: 300\n",
    "Salário: 500\n",
    "Salário: 100\n",
    "Salário: 4500\n",
    "Salário: 0\n",
    " \n",
    "Salário    - Abono     \n",
    "R$ 1000.00 - R$  200.00\n",
    "R$  300.00 - R$  100.00\n",
    "R$  500.00 - R$  100.00\n",
    "R$  100.00 - R$  100.00\n",
    "R$ 4500.00 - R$  900.00\n",
    " \n",
    "Foram processados 5 colaboradores\n",
    "Total gasto com abonos: R$ 1400.00\n",
    "Valor mínimo pago a 3 colaboradores\n",
    "Maior valor de abono pago: R$ 900.00"
   ]
  },
  {
   "cell_type": "code",
   "execution_count": null,
   "id": "fadbcfb2",
   "metadata": {
    "id": "fadbcfb2"
   },
   "outputs": [
    {
     "name": "stdout",
     "output_type": "stream",
     "text": [
      "O salario do funcionario eh de R$1200.0 reais e o abono eh de R$200.0 reais\n",
      "O salario do funcionario eh de R$360.0 reais e o abono eh de R$60.0 reais\n",
      "O salario do funcionario eh de R$600.0 reais e o abono eh de R$100.0 reais\n",
      "O salario do funcionario eh de R$240.0 reais e o abono eh de R$40.0 reais\n",
      "O salario do funcionario eh de R$1800.0 reais e o abono eh de R$300.0 reais\n",
      "O salario do funcionario eh de R$3600.0 reais e o abono eh de R$600.0 reais\n",
      "O salario do funcionario eh de R$4080.0 reais e o abono eh de R$680.0 reais\n",
      "O salario do funcionario eh de R$6000.0 reais e o abono eh de R$1000.0 reais\n",
      "O salario do funcionario eh de R$8400.0 reais e o abono eh de R$1400.0 reais\n",
      "O salario do funcionario eh de R$2400.0 reais e o abono eh de R$400.0 reais\n",
      "O salario do funcionario eh de R$720.0 reais e o abono eh de R$120.0 reais\n",
      "O salario do funcionario eh de R$960.0 reais e o abono eh de R$160.0 reais\n",
      "O salario do funcionario eh de R$300.0 reais e o abono eh de R$50.0 reais\n",
      "O salario do funcionario eh de R$1800.0 reais e o abono eh de R$300.0 reais\n",
      "O salario do funcionario eh de R$24000.0 reais e o abono eh de R$4000.0 reais\n",
      "Foram processados 15 colaboradores\n",
      "O total gasto com abonos foi de R$ 9560.0 reais\n",
      "O valor minimo pago a 4 colaboradores\n",
      "Maior valor de abono pago eh de R$ 4000.0 reais\n"
     ]
    }
   ],
   "source": [
    "lista_salarios = [1000, 300, 500, 200, 1500, 3000, 3400, 5000, 7000, 2000, 600, 800, 250, 1500, 20000]\n",
    "abonos = []\n",
    "\n",
    "qtd_funcionarios = 0 \n",
    "abono_minimo = 0\n",
    "maior_abono = 0\n",
    "\n",
    "for i, salario in enumerate(lista_salarios):\n",
    "    abono = salario * 0.20\n",
    "    salario_final = salario + abono\n",
    "    print('O salario do funcionario eh de R${} reais e o abono eh de R${} reais' .format(salario_final,abono))\n",
    "    qtd_funcionarios += 1\n",
    "    if abono > maior_abono:\n",
    "        maior_abono = abono #pode ser feito com MAX, pois foi criado uma lista com o valores (abonos)\n",
    "    if abono < 100:\n",
    "        abono = 100\n",
    "    abonos.append(abono)\n",
    "    if abono == 100:\n",
    "        abono_minimo += 1\n",
    "\n",
    "print('Foram processados {} colaboradores' .format(qtd_funcionarios))\n",
    "print('O total gasto com abonos foi de R$ {} reais' .format(sum(abonos)))\n",
    "print('O valor minimo pago a {} colaboradores' .format(abono_minimo))\n",
    "print('Maior valor de abono pago eh de R$ {} reais' .format(maior_abono))\n",
    "\n",
    "\n"
   ]
  },
  {
   "cell_type": "markdown",
   "id": "382b0981",
   "metadata": {
    "id": "382b0981"
   },
   "source": [
    "#### 6. Faça um programa que carregue uma lista com os modelos de cinco carros (exemplo de modelos: FUSCA, GOL, VECTRA etc). Carregue uma outra lista com o consumo desses carros, isto é, quantos quilômetros cada um desses carros faz com um litro de combustível. Calcule e mostre:\n",
    "<pre>\n",
    "a. O modelo do carro mais econômico;\n",
    "b. Quantos litros de combustível cada um dos carros cadastrados consome para percorrer uma distância de 1000 quilômetros e quanto isto custará, considerando um que a gasolina custe R$ 2,25 o litro. Abaixo segue uma tela de exemplo. O disposição das informações deve ser o mais próxima possível ao exemplo. Os dados são fictícios e podem mudar a cada execução do programa.</pre>\n",
    "```\n",
    "Comparativo de Consumo de Combustível\n",
    "\n",
    "Veículo 1\n",
    "Nome: fusca\n",
    "Km por litro: 7\n",
    "Veículo 2\n",
    "Nome: gol\n",
    "Km por litro: 10\n",
    "Veículo 3\n",
    "Nome: uno\n",
    "Km por litro: 12.5\n",
    "Veículo 4\n",
    "Nome: Vectra\n",
    "Km por litro: 9\n",
    "Veículo 5\n",
    "Nome: Peugeout\n",
    "Km por litro: 14.5\n",
    "\n",
    "Relatório Final\n",
    " 1 - fusca           -    7.0 -  142.9 litros - R$ 321.43\n",
    " 2 - gol             -   10.0 -  100.0 litros - R$ 225.00\n",
    " 3 - uno             -   12.5 -   80.0 litros - R$ 180.00\n",
    " 4 - vectra          -    9.0 -  111.1 litros - R$ 250.00\n",
    " 5 - peugeout        -   14.5 -   69.0 litros - R$ 155.17\n",
    "O menor consumo é do peugeout.\n",
    "```"
   ]
  },
  {
   "cell_type": "code",
   "execution_count": 52,
   "id": "6b6c8b06",
   "metadata": {
    "id": "6b6c8b06"
   },
   "outputs": [
    {
     "name": "stdout",
     "output_type": "stream",
     "text": [
      "Comparativo de Consumo de Combustível\n",
      "Veiculo 1\n",
      "Nome: fusca\n",
      "KM por litro: 7\n",
      "Veiculo 2\n",
      "Nome: gol\n",
      "KM por litro: 10\n",
      "Veiculo 3\n",
      "Nome: uno\n",
      "KM por litro: 12.5\n",
      "Veiculo 4\n",
      "Nome: vectra\n",
      "KM por litro: 9\n",
      "Veiculo 5\n",
      "Nome: peugeot\n",
      "KM por litro: 14.5\n",
      "Relatório Final\n",
      "1 - fusca - 7 - 142.86 litros - R$321.43\n",
      "2 - gol - 10 - 100.00 litros - R$225.00\n",
      "3 - uno - 12.5 - 80.00 litros - R$180.00\n",
      "4 - vectra - 9 - 111.11 litros - R$250.00\n",
      "5 - peugeot - 14.5 - 68.97 litros - R$155.17\n",
      "O menor consumo foi do peugeot com o consumo de 68.97\n"
     ]
    }
   ],
   "source": [
    "print('Comparativo de Consumo de Combustível')\n",
    "veiculos = ['fusca','gol', 'uno', 'vectra', 'peugeot']\n",
    "autonomias = [7, 10, 12.5, 9, 14.5]\n",
    "litros = []\n",
    "\n",
    "for i in range(len(veiculos)):\n",
    "    print('Veiculo {}' .format(i+1))\n",
    "    print('Nome: {}' .format(veiculos[i]))\n",
    "    print('KM por litro: {}' .format(autonomias[i]))\n",
    "\n",
    "print('Relatório Final')\n",
    "\n",
    "for i, veiculo in enumerate(veiculos):\n",
    "    consumo = 1000 / autonomias[i]\n",
    "    valor = consumo * 2.25\n",
    "    litros.append(consumo)\n",
    "\n",
    "    print('{} - {} - {} - {:.2f} litros - R${:.2f}' .format(i+1,veiculos[i],autonomias[i],consumo,valor))\n",
    "\n",
    "print('O menor consumo foi do {} com o consumo de {:.2f}' .format(veiculos[i],min(litros)))"
   ]
  },
  {
   "cell_type": "markdown",
   "id": "1d0260a3",
   "metadata": {
    "id": "1d0260a3"
   },
   "source": [
    "#### 7. Uma empresa paga seus vendedores com base em comissões. O vendedor recebe \\\\$200 por semana mais 9 por cento de suas vendas brutas daquela semana. Por exemplo, um vendedor que teve vendas brutas de \\\\$3000 em uma semana recebe \\\\$200 mais 9 por cento de \\\\$3000, ou seja, um total de \\\\$470. Escreva um programa (usando um array de contadores) que determine quantos vendedores receberam salários nos seguintes intervalos de valores:\n",
    "<pre>\n",
    "$200 - $299\n",
    "$300 - $399\n",
    "$400 - $499\n",
    "$500 - $599\n",
    "$600 - $699\n",
    "$700 - $799\n",
    "$800 - $899\n",
    "$900 - $999\n",
    "$1000 em diante\n",
    "</pre>\n",
    "\n",
    "Existem várias formas de fazer. Faça primeiro da forma que parecer mais intuitiva para você.\n",
    "\n",
    "Em seguida, caso queira um desafio:\n",
    "Desafio: Crie uma forma para chegar na posição da lista a partir do salário, sem fazer vários ifs aninhados."
   ]
  },
  {
   "cell_type": "code",
   "execution_count": null,
   "id": "fc6eaae4",
   "metadata": {
    "id": "fc6eaae4"
   },
   "outputs": [],
   "source": [
    "vendas = [1000, 2000, 3000, 4000, 5000, 6000, 5500, 4500, 3600, 30000]\n",
    "faixas = []\n",
    "menores_que_mil = 0\n",
    "tamanho_faixas = 100\n",
    "qtde_faixas = 9\n",
    "\n",
    "for venda in vendas:\n",
    "    bonus = venda * 0.09\n",
    "    salario = 200 + bonus\n",
    "    print(salario)\n",
    "    faixa = int(bonus / tamanho_faixas) + 1\n",
    "    faixas.append(faixa)\n",
    "    print(faixa)\n",
    "print(faixas)\n",
    "    \n",
    "for i in range(qtde_faixas-1):\n",
    "    print(f'Entre {i*100 + 200} e {i*100 + 299}:', faixas.count(i+1))\n",
    "    menores_que_mil += faixas.count(i+1)\n",
    "    \n",
    "print('Mais que mil:', len(vendas) - menores_que_mil)"
   ]
  }
 ],
 "metadata": {
  "colab": {
   "provenance": []
  },
  "kernelspec": {
   "display_name": ".venv",
   "language": "python",
   "name": "python3"
  },
  "language_info": {
   "codemirror_mode": {
    "name": "ipython",
    "version": 3
   },
   "file_extension": ".py",
   "mimetype": "text/x-python",
   "name": "python",
   "nbconvert_exporter": "python",
   "pygments_lexer": "ipython3",
   "version": "3.12.3"
  }
 },
 "nbformat": 4,
 "nbformat_minor": 5
}
