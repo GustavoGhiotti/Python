{
 "cells": [
  {
   "cell_type": "markdown",
   "metadata": {},
   "source": [
    "# Exercícios\n",
    "\n",
    "## 1. Criando um Registro de Hóspedes\n",
    "\n",
    "Digamos que você está criando o sistema para registrar a chegada de hóspedes em um hotel. No hotel, os hóspedes podem ter quartos com 1, 2, 3 e 4 pessoas. Seu sistema deve conseguir:\n",
    "\n",
    "1. Identificar quantas pessoas o hóspede que acabou de chegar vai ter no quarto (perguntando por meio de input)\n",
    "2. De acordo com a quantidade de pessoas do hóspede, ele deve fazer um for para perguntar o cpf e o nome de cada pessoa, a fim de registrá-la no quarto (2 inputs para cada pessoa, 1 para o cpf e outro para o nome)\n",
    "3. O seu programa então deve gerar uma lista com todas as pessoas que ficarão no quarto em que cada item dessa lista é o nome da pessoa e o cpf da pessoa, assim:"
   ]
  },
  {
   "cell_type": "raw",
   "metadata": {
    "vscode": {
     "languageId": "raw"
    }
   },
   "source": [
    "quarto = [\n",
    "    ['João', 'cpf:00000000000'],\n",
    "    ['Julia', 'cpf:11111111111'],\n",
    "    ['Marcus', 'cpf:22222222222'],\n",
    "    ['Maria', 'cpf:33333333333'],\n",
    "]\n"
   ]
  },
  {
   "cell_type": "markdown",
   "metadata": {},
   "source": [
    "- Para simplificar, não vamos nos preocupar com possibilidades de \"tentar colocar mais de 1 hóspede, digitar o cpf errado, etc. Nosso objetivo é treinar a criação de uma rotina de cadastro"
   ]
  },
  {
   "cell_type": "code",
   "execution_count": 1,
   "metadata": {},
   "outputs": [
    {
     "name": "stdout",
     "output_type": "stream",
     "text": [
      "[['gugu cpf: 1234567'], ['gege cpf: 123456'], ['dada cpf: 1234567']]\n"
     ]
    }
   ],
   "source": [
    "quarto = []\n",
    "\n",
    "qtd = int(input('Quantos hospedes terao na reserva?'))\n",
    "\n",
    "for i in range(qtd):\n",
    "    nome = input('Qual o nome do cliente?')\n",
    "    cpf = input('Qual o CPF do cliente?')\n",
    "    hospede = ['{} cpf: {}' .format(nome,cpf)]\n",
    "    quarto.append(hospede)\n",
    "\n",
    "print(quarto)"
   ]
  },
  {
   "cell_type": "markdown",
   "metadata": {},
   "source": [
    "## 2. Análise de Vendas\n",
    "\n",
    "Nesse exercício vamos fazer uma \"análise simples\" de atingimento de Meta.\n",
    "\n",
    "Temos uma lista com os vendedores e os valores de vendas e queremos identificar (printar) quais os vendedores que bateram a meta e qual foi o valor que eles venderam."
   ]
  },
  {
   "cell_type": "code",
   "execution_count": 5,
   "metadata": {},
   "outputs": [
    {
     "name": "stdout",
     "output_type": "stream",
     "text": [
      "O vendedor João vendeu 15000 reais\n",
      "O vendedor Julia vendeu 27000 reais\n",
      "O vendedor Ana vendeu 10300 reais\n"
     ]
    }
   ],
   "source": [
    "meta = 10000\n",
    "vendas = [\n",
    "    ['João', 15000],\n",
    "    ['Julia', 27000],\n",
    "    ['Marcus', 9900],\n",
    "    ['Maria', 3750],\n",
    "    ['Ana', 10300],\n",
    "    ['Alon', 7870],\n",
    "]\n",
    "\n",
    "for item in vendas:\n",
    "    if item[1] >= meta:\n",
    "        print('O vendedor {} vendeu {} reais' .format(item[0],item[1]))"
   ]
  },
  {
   "cell_type": "markdown",
   "metadata": {},
   "source": [
    "## 3. Comparação com Ano Anterior\n",
    "\n",
    "Digamos que você está analisando as vendas de produtos de um ecommerce e quer identificar quais produtos tiveram no ano de 2020 mais vendas do que no ano de 2019, para reportar isso para a diretoria.\n",
    "\n",
    "Sua resposta pode ser um print de cada produto, qual foi a venda de 2019, a venda de 2020 e o % de crescimento de 2020 para 2019.\n",
    "\n",
    "Lembrando, para calcular o % de crescimento de um produto de um ano para o outro, podemos fazer: (vendas_produto2020/vendas_produto2019 - 1)\n",
    "\n",
    "Dica: lembre do enumerate, ele pode facilitar seu \"for\""
   ]
  },
  {
   "cell_type": "code",
   "execution_count": 17,
   "metadata": {},
   "outputs": [
    {
     "name": "stdout",
     "output_type": "stream",
     "text": [
      "O produto iphone vendeu R$558,147 reais em 2019 e R$951,642 reais em 2020 teve um crescimento de 70.50%\n",
      "O produto tv vendeu R$405,252 reais em 2019 e R$787,604 reais em 2020 teve um crescimento de 94.35%\n",
      "O produto máquina de café vendeu R$718,654 reais em 2019 e R$867,660 reais em 2020 teve um crescimento de 20.73%\n",
      "O produto notebook dell vendeu R$422,760 reais em 2019 e R$694,913 reais em 2020 teve um crescimento de 64.38%\n",
      "O produto notebook hp vendeu R$154,753 reais em 2019 e R$539,704 reais em 2020 teve um crescimento de 248.75%\n",
      "O produto microsoft surface vendeu R$438,508 reais em 2019 e R$667,179 reais em 2020 teve um crescimento de 52.15%\n",
      "O produto webcam vendeu R$237,467 reais em 2019 e R$295,633 reais em 2020 teve um crescimento de 24.49%\n",
      "O produto caixa de som vendeu R$489,705 reais em 2019 e R$725,316 reais em 2020 teve um crescimento de 48.11%\n",
      "O produto microfone vendeu R$328,311 reais em 2019 e R$644,622 reais em 2020 teve um crescimento de 96.34%\n",
      "O produto câmera canon vendeu R$591,120 reais em 2019 e R$994,303 reais em 2020 teve um crescimento de 68.21%\n"
     ]
    }
   ],
   "source": [
    "produtos = ['iphone', 'galaxy', 'ipad', 'tv', 'máquina de café', 'kindle', 'geladeira', 'adega', 'notebook dell', 'notebook hp', 'notebook asus', 'microsoft surface', 'webcam', 'caixa de som', 'microfone', 'câmera canon']\n",
    "vendas2019 = [558147,712350,573823,405252,718654,531580,973139,892292,422760,154753,887061,438508,237467,489705,328311,591120]\n",
    "vendas2020 = [951642,244295,26964,787604,867660,78830,710331,646016,694913,539704,324831,667179,295633,725316,644622,994303]\n",
    "#seu código aqui\n",
    "\n",
    "for i, produto in enumerate(produtos):\n",
    "    if vendas2020[i] > vendas2019[i]:\n",
    "        crescimento = vendas2020[i]/vendas2019[i] - 1 \n",
    "        print('O produto {} vendeu R${:,} reais em 2019 e R${:,} reais em 2020 teve um crescimento de {:.2%}' .format(produto,vendas2019[i],vendas2020[i],crescimento))"
   ]
  }
 ],
 "metadata": {
  "kernelspec": {
   "display_name": ".venv",
   "language": "python",
   "name": "python3"
  },
  "language_info": {
   "codemirror_mode": {
    "name": "ipython",
    "version": 3
   },
   "file_extension": ".py",
   "mimetype": "text/x-python",
   "name": "python",
   "nbconvert_exporter": "python",
   "pygments_lexer": "ipython3",
   "version": "3.12.3"
  }
 },
 "nbformat": 4,
 "nbformat_minor": 4
}
