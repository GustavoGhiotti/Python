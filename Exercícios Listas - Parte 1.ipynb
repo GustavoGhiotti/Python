{
 "cells": [
  {
   "cell_type": "markdown",
   "metadata": {},
   "source": [
    "# Exercícios\n",
    "\n",
    "## 1. Faturamento do Melhor e do Pior Mês do Ano\n",
    "\n",
    "Qual foi o valor de vendas do melhor mês do Ano?\n",
    "E valor do pior mês do ano?"
   ]
  },
  {
   "cell_type": "code",
   "execution_count": 21,
   "metadata": {},
   "outputs": [
    {
     "name": "stdout",
     "output_type": "stream",
     "text": [
      "49051\n",
      "9650\n",
      "[25000, 29000, 22200, 17750, 15870, 19900, 19850, 20120, 17540, 15555, 49051, 9650]\n"
     ]
    }
   ],
   "source": [
    "meses = ['jan', 'fev', 'mar', 'abr', 'mai', 'jun', 'jul', 'ago', 'set', 'out', 'nov', 'dez']\n",
    "vendas_1sem = [25000, 29000, 22200, 17750, 15870, 19900]\n",
    "vendas_2sem = [19850, 20120, 17540, 15555, 49051, 9650]\n",
    "\n",
    "vendas_total = vendas_1sem + vendas_2sem\n",
    "\n",
    "maior = max(vendas_total)\n",
    "menor = min(vendas_total)\n",
    "print(maior)\n",
    "print(menor)\n",
    "print(vendas_total)"
   ]
  },
  {
   "cell_type": "markdown",
   "metadata": {},
   "source": [
    "## 2. Continuação\n",
    "\n",
    "Agora relacione as duas listas para printar 'O melhor mês do ano foi {} com {} vendas' e o mesmo para o pior mês do ano.\n",
    "\n",
    "Calcule também o faturamento total do Ano e quanto que o melhor mês representou do faturamento total.\n",
    "\n",
    "Obs: Para o faturamento total, pode usar a função sum(lista) que soma todos os itens de uma lista"
   ]
  },
  {
   "cell_type": "code",
   "execution_count": null,
   "metadata": {},
   "outputs": [
    {
     "name": "stdout",
     "output_type": "stream",
     "text": [
      "O melhor mes de vendas foi nov com 49051 vendas\n",
      "O pior mes de vendas foi dez com 9650 vendas\n",
      "O valor total de venda foi de 261486 reais com media de 21790.5 reais\n",
      "O melhor mes contribuiu com 18.76%\n"
     ]
    }
   ],
   "source": [
    "i_maior = vendas_total.index(maior)\n",
    "i_menor = vendas_total.index(menor)\n",
    "\n",
    "melhor_mes = meses[i_maior]\n",
    "pior_mes = meses[i_menor]\n",
    "\n",
    "valor_total = sum(vendas_total)\n",
    "qtd = len(vendas_total)\n",
    "\n",
    "media = valor_total / qtd\n",
    "\n",
    "mes_porcent = maior / valor_total\n",
    "\n",
    "\n",
    "\n",
    "print('O melhor mes de vendas foi {} com {} vendas' .format(melhor_mes,maior))\n",
    "print('O pior mes de vendas foi {} com {} vendas' .format(pior_mes,menor))\n",
    "print('O valor total de venda foi de {} reais com media de {} reais' .format(valor_total,media))\n",
    "print('O melhor mes contribuiu com {:.2%}' .format(mes_porcent))\n",
    "\n"
   ]
  },
  {
   "cell_type": "markdown",
   "metadata": {},
   "source": [
    "## 3. Crie uma lista com o top 3 valores de vendas do ano (sem fazer \"no olho\")\n",
    "\n",
    "Dica: o método remove retira um item da lista."
   ]
  },
  {
   "cell_type": "code",
   "execution_count": null,
   "metadata": {},
   "outputs": [
    {
     "name": "stdout",
     "output_type": "stream",
     "text": [
      "[49051, 29000, 25000]\n"
     ]
    }
   ],
   "source": [
    "top3 = []\n",
    "\n",
    "maior = max(vendas_total)\n",
    "top3.append(maior)\n",
    "\n",
    "vendas_total.remove(maior)\n",
    "\n",
    "maior = max(vendas_total)\n",
    "top3.append(maior)\n",
    "\n",
    "vendas_total.remove(maior)\n",
    "\n",
    "maior = max(vendas_total)\n",
    "top3.append(maior)\n",
    "\n",
    "print(top3)"
   ]
  },
  {
   "cell_type": "code",
   "execution_count": 30,
   "metadata": {},
   "outputs": [
    {
     "name": "stdout",
     "output_type": "stream",
     "text": [
      "[49051, 29000, 25000]\n"
     ]
    }
   ],
   "source": [
    "vendas_total2 = vendas_total.copy()\n",
    "\n",
    "vendas_total2.sort(reverse=True)\n",
    "\n",
    "top_3 = vendas_total2[:3]\n",
    "\n",
    "print(top_3)"
   ]
  }
 ],
 "metadata": {
  "kernelspec": {
   "display_name": ".venv",
   "language": "python",
   "name": "python3"
  },
  "language_info": {
   "codemirror_mode": {
    "name": "ipython",
    "version": 3
   },
   "file_extension": ".py",
   "mimetype": "text/x-python",
   "name": "python",
   "nbconvert_exporter": "python",
   "pygments_lexer": "ipython3",
   "version": "3.12.3"
  }
 },
 "nbformat": 4,
 "nbformat_minor": 4
}
