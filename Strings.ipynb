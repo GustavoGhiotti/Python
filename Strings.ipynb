{
 "cells": [
  {
   "cell_type": "markdown",
   "id": "2b04bbea",
   "metadata": {},
   "source": [
    "# Strings\n",
    "\n",
    "<span style=\"color: red;\"><b>Todos os exercícios são feitos partindo-se do pressuposto de que todas as entradas são dadas de forma correta. Casos limite não mencionados no enunciado não são abordados porque não fazem parte do exercício.</b></span>"
   ]
  },
  {
   "cell_type": "markdown",
   "id": "5b1f33b9",
   "metadata": {},
   "source": [
    "#### 1. Tamanho de strings. Faça um programa que leia 2 strings e informe o conteúdo delas seguido do seu comprimento. Informe também se as duas strings possuem o mesmo comprimento e são iguais ou diferentes no conteúdo.\n",
    "<pre>\n",
    "Compara duas strings\n",
    "String 1: Brasil Hexa 2006\n",
    "String 2: Brasil! Hexa 2006!\n",
    "Tamanho de \"Brasil Hexa 2006\": 16 caracteres\n",
    "Tamanho de \"Brasil! Hexa 2006!\": 18 caracteres\n",
    "As duas strings são de tamanhos diferentes.\n",
    "As duas strings possuem conteúdo diferente.\n",
    "</pre>"
   ]
  },
  {
   "cell_type": "code",
   "execution_count": 10,
   "id": "c492b657",
   "metadata": {},
   "outputs": [
    {
     "name": "stdout",
     "output_type": "stream",
     "text": [
      "As strings tem o mesmo tamanho 6\n",
      "O conteudo das strings sao iguais\n"
     ]
    }
   ],
   "source": [
    "string1 = input('Qual a primeira frase?')\n",
    "string2 = input('Qual a segunda string?')\n",
    "\n",
    "tam_string1 = len(string1)\n",
    "tam_string2 = len(string2)\n",
    "\n",
    "cont_string1 = string1\n",
    "cont_string2 = string2\n",
    "\n",
    "if tam_string1  != tam_string2:\n",
    "    print('As strings sao de tamanhos diferente {} e {} caracteres' .format(tam_string1,tam_string2))\n",
    "else:\n",
    "    print('As strings tem o mesmo tamanho {}' .format(tam_string1))\n",
    "\n",
    "if cont_string1 != cont_string2:\n",
    "    print('O conteudo das strings sao diferentes')\n",
    "else:\n",
    "    print('O conteudo das strings sao iguais')"
   ]
  },
  {
   "cell_type": "markdown",
   "id": "c3068a53",
   "metadata": {},
   "source": [
    "#### 2. Valida e corrige número de telefone. Faça um programa que leia um número de telefone, e corrija o número no caso deste conter somente 7 dígitos, acrescentando o '3' na frente. O usuário pode informar o número com ou sem o traço separador.\n",
    "<pre>\n",
    "Valida e corrige número de telefone\n",
    "Telefone: 461-0133\n",
    "Telefone possui 7 dígitos. Vou acrescentar o digito três na frente.\n",
    "Telefone corrigido sem formatação: 34610133\n",
    "Telefone corrigido com formatação: 3461-0133\n",
    "</pre>"
   ]
  },
  {
   "cell_type": "code",
   "execution_count": 14,
   "id": "0308566d",
   "metadata": {},
   "outputs": [
    {
     "name": "stdout",
     "output_type": "stream",
     "text": [
      "O telefone corrigido sem fomatacao: 34610133\n",
      "O telefone corrigido com formatacao: 3461-0133\n"
     ]
    }
   ],
   "source": [
    "telefone = input('Qual o seu telefone?')\n",
    "\n",
    "telefone = telefone.replace('-','')\n",
    "\n",
    "if len(telefone) == 7:\n",
    "    telefone = '3' + telefone\n",
    "    form_tel = telefone[:4] + '-' + telefone [4:] \n",
    "    print('O telefone corrigido sem fomatacao: {}' .format(telefone))\n",
    "    print('O telefone corrigido com formatacao: {}' .format(form_tel))\n"
   ]
  }
 ],
 "metadata": {
  "kernelspec": {
   "display_name": ".venv",
   "language": "python",
   "name": "python3"
  },
  "language_info": {
   "codemirror_mode": {
    "name": "ipython",
    "version": 3
   },
   "file_extension": ".py",
   "mimetype": "text/x-python",
   "name": "python",
   "nbconvert_exporter": "python",
   "pygments_lexer": "ipython3",
   "version": "3.12.3"
  }
 },
 "nbformat": 4,
 "nbformat_minor": 5
}
